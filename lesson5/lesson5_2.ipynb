{
 "cells": [
  {
   "cell_type": "markdown",
   "id": "c4ef5868",
   "metadata": {},
   "source": [
    "## python標準函式庫--->函式--->function--->一個功能"
   ]
  },
  {
   "cell_type": "markdown",
   "id": "b1d8d295",
   "metadata": {},
   "source": [
    "#### 迴圈---->重複執行\n",
    "- 有兩種語法，方式\n",
    "- for_in_\n",
    "- while"
   ]
  },
  {
   "cell_type": "markdown",
   "id": "94fec4fb",
   "metadata": {},
   "source": [
    "#### range是一個串列資料(Sequence)\n",
    "- 假如我寫(5)，那麼range就會(0,1,2,3,4) --->會暫時把他們包在一起\n",
    "- 只有0,1,2,3,4---->不包括5\n",
    "- 這個5是指--->會被執行5次的意思\n",
    "- rasnge--->從0開始\n",
    "- 使用range (5) 後面必須要放串列資料\n",
    "- ele--->自訂的變數\n",
    "- step = 參數有預設值--->照這個數相加\n",
    "\n",
    "- class range (start(起始值)、stop(停止、結束值)、step = (參數有預設值))"
   ]
  },
  {
   "cell_type": "code",
   "execution_count": 4,
   "id": "5fa20f23",
   "metadata": {},
   "outputs": [
    {
     "data": {
      "text/plain": [
       "range(0, 5)"
      ]
     },
     "execution_count": 4,
     "metadata": {},
     "output_type": "execute_result"
    }
   ],
   "source": [
    "zero_to_nine:range = range(5)\n",
    "zero_to_nine"
   ]
  },
  {
   "cell_type": "code",
   "execution_count": 5,
   "id": "d180b76c",
   "metadata": {},
   "outputs": [
    {
     "name": "stdout",
     "output_type": "stream",
     "text": [
      "0\n",
      "1\n",
      "2\n",
      "3\n",
      "4\n"
     ]
    }
   ],
   "source": [
    "for ele in range(5):\n",
    "    print(ele)"
   ]
  },
  {
   "cell_type": "code",
   "execution_count": 6,
   "id": "c5b30900",
   "metadata": {},
   "outputs": [
    {
     "name": "stdout",
     "output_type": "stream",
     "text": [
      "1\n",
      "2\n",
      "3\n",
      "4\n"
     ]
    }
   ],
   "source": [
    "for ele in range(1, 5):\n",
    "    print(ele)"
   ]
  },
  {
   "cell_type": "code",
   "execution_count": null,
   "id": "92739411",
   "metadata": {},
   "outputs": [
    {
     "name": "stdout",
     "output_type": "stream",
     "text": [
      "1\n",
      "3\n",
      "5\n",
      "7\n",
      "9\n"
     ]
    }
   ],
   "source": [
    "for ele in range(1, 11, 2): #11是不包含的，是沒有的\n",
    "    print(ele)              #最後那個2，一次跳2\n",
    "                            #range有三種使用方法\n",
    "                            # print(ele)"
   ]
  },
  {
   "cell_type": "code",
   "execution_count": 14,
   "id": "28d9edf4",
   "metadata": {},
   "outputs": [
    {
     "data": {
      "text/plain": [
       "55"
      ]
     },
     "execution_count": 14,
     "metadata": {},
     "output_type": "execute_result"
    }
   ],
   "source": [
    "#1~10的總數\n",
    "total = 0\n",
    "total += 1\n",
    "total += 2\n",
    "total += 3\n",
    "total += 4\n",
    "total += 5\n",
    "total += 6\n",
    "total += 7\n",
    "total += 8\n",
    "total += 9\n",
    "total += 10\n",
    "total"
   ]
  },
  {
   "cell_type": "markdown",
   "id": "2d1626df",
   "metadata": {},
   "source": [
    "### 如果明確知道執行的次數，請使用for in 迴圈"
   ]
  },
  {
   "cell_type": "code",
   "execution_count": null,
   "id": "9687aba2",
   "metadata": {},
   "outputs": [
    {
     "name": "stdout",
     "output_type": "stream",
     "text": [
      "55\n"
     ]
    }
   ],
   "source": [
    "total = 0\n",
    "for i in range(1, 11): #要注意尾數，不包含尾數，所以到最後都要加1 (左邊原本是10)\n",
    "    total += i\n",
    "print(total)\n"
   ]
  },
  {
   "cell_type": "markdown",
   "id": "b9ecbc07",
   "metadata": {},
   "source": [
    "### _ 意思:省略運算子"
   ]
  },
  {
   "cell_type": "code",
   "execution_count": null,
   "id": "7450d918",
   "metadata": {},
   "outputs": [
    {
     "name": "stdout",
     "output_type": "stream",
     "text": [
      "很重要\n",
      "很重要\n",
      "很重要\n"
     ]
    }
   ],
   "source": [
    "for _ in range(3):\n",
    "    print(\"很重要\")"
   ]
  },
  {
   "cell_type": "markdown",
   "id": "710b25e1",
   "metadata": {},
   "source": [
    "### 字串，也是Sequence(串列資料)"
   ]
  },
  {
   "cell_type": "code",
   "execution_count": 26,
   "id": "6a1247ff",
   "metadata": {},
   "outputs": [
    {
     "name": "stdout",
     "output_type": "stream",
     "text": [
      "很\n",
      "重\n",
      "要\n"
     ]
    }
   ],
   "source": [
    "for word in '很重要':\n",
    "    print(word)"
   ]
  }
 ],
 "metadata": {
  "kernelspec": {
   "display_name": "base",
   "language": "python",
   "name": "python3"
  },
  "language_info": {
   "codemirror_mode": {
    "name": "ipython",
    "version": 3
   },
   "file_extension": ".py",
   "mimetype": "text/x-python",
   "name": "python",
   "nbconvert_exporter": "python",
   "pygments_lexer": "ipython3",
   "version": "3.12.7"
  }
 },
 "nbformat": 4,
 "nbformat_minor": 5
}
