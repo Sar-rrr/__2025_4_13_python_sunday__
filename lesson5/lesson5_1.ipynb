{
 "cells": [
  {
   "cell_type": "markdown",
   "id": "7ba59234",
   "metadata": {},
   "source": [
    "##### 巢狀判斷\n",
    "##### 多個條件時，會用巢狀判斷\n",
    "- 貓\n",
    "- 熊\n",
    "- 蜥蜴\n",
    "- 人類"
   ]
  },
  {
   "cell_type": "code",
   "execution_count": 5,
   "id": "d2d2d936",
   "metadata": {},
   "outputs": [
    {
     "name": "stdout",
     "output_type": "stream",
     "text": [
      "熊\n"
     ]
    }
   ],
   "source": [
    "furry:bool = True\n",
    "small:bool = False\n",
    "\n",
    "if furry:\n",
    "    if small:\n",
    "        print(\"貓\")\n",
    "    else:\n",
    "        print(\"熊\")\n",
    "else:\n",
    "    if small:\n",
    "        print(\"小蜥蜴\")\n",
    "    else:\n",
    "        print(\"人類\")\n"
   ]
  },
  {
   "cell_type": "code",
   "execution_count": 19,
   "id": "2d9e27e4",
   "metadata": {},
   "outputs": [
    {
     "name": "stdout",
     "output_type": "stream",
     "text": [
      "學生等級:不及格\n"
     ]
    }
   ],
   "source": [
    "score:int = int(input(\"請輸入學生分數:\"))\n",
    "if score >= 80:\n",
    "    grade:str = '優'\n",
    "else:\n",
    "    #小於80\n",
    "    if score >= 60:\n",
    "        #小於80同時大於等於60\n",
    "        grade:str = '及格'\n",
    "    else:\n",
    "        grade:str = '不及格'\n",
    "\n",
    "print(f\"學生等級:{grade}\") #程式碼在最外面的都會執行"
   ]
  },
  {
   "cell_type": "code",
   "execution_count": null,
   "id": "c2ca4cca",
   "metadata": {},
   "outputs": [],
   "source": [
    "##### 多向選擇"
   ]
  },
  {
   "cell_type": "code",
   "execution_count": null,
   "id": "b9503496",
   "metadata": {},
   "outputs": [
    {
     "name": "stdout",
     "output_type": "stream",
     "text": [
      "學生等級:及格\n"
     ]
    }
   ],
   "source": [
    "score:int = int(input(\"請輸入學生分數:\"))\n",
    "if score >= 80:\n",
    "    grade:str = '優'\n",
    "elif score >= 60:        \n",
    "    grade:str = '及格'\n",
    "else:\n",
    "    grade:str = '不及格'\n",
    "\n",
    "print(f\"學生等級:{grade}\")\n",
    "\n",
    "#注意:if是最外面那排的，所以總共就一個if而已，也叫多項選擇\n",
    "#if裡面有else，就代表程式區塊一定會執行一個，不會不執行\n",
    "#只要執行一個程式區塊，後面連看都不會看就跳出來了\n",
    "#執行程式區塊是由上而下開始執行!\n",
    "#嚴格的條件要優先方在最上方，第一個True個情況"
   ]
  },
  {
   "cell_type": "markdown",
   "id": "2fb5b69f",
   "metadata": {},
   "source": [
    "- 90(含)~100分為 「優」\n",
    "- 80(含)~89分為 「甲」\n",
    "- 70(含)~79分為 「乙」\n",
    "- 60(含)~69分為 「丙」\n",
    "- 0(含)~59分為 \n",
    "##### 請用多項選擇"
   ]
  },
  {
   "cell_type": "code",
   "execution_count": 33,
   "id": "ac666014",
   "metadata": {},
   "outputs": [
    {
     "name": "stdout",
     "output_type": "stream",
     "text": [
      "學生等級:優\n"
     ]
    }
   ],
   "source": [
    "score:int = int(input(\"請輸入學生分數:\"))\n",
    "if score >= 90:\n",
    "    grade:str = '優'\n",
    "elif score >= 80:\n",
    "    grade:str = '甲'\n",
    "elif score >= 70:\n",
    "    grade:str = \"乙\"\n",
    "elif score >= 60:\n",
    "    grade:str = '丙'\n",
    "else:\n",
    "    grade:str = '丁'\n",
    "print(f\"學生等級:{grade}\")"
   ]
  },
  {
   "cell_type": "markdown",
   "id": "20ddb724",
   "metadata": {},
   "source": [
    "#### 輸入顧客購買金額，若金額在\n",
    "\n",
    "     - 100000元打8折.\n",
    "     - 50000元打85折.\n",
    "     - 30000元打9折.\n",
    "     - 10000元打95折.\n",
    "\n",
    "      請輸入購買金額:130000\n",
    "      實付金額是:104000.0元"
   ]
  },
  {
   "cell_type": "code",
   "execution_count": null,
   "id": "0c068413",
   "metadata": {},
   "outputs": [],
   "source": [
    "money:int = (input(\"請輸入購買金額:\"))\n",
    "if money < 10000:\n",
    "    pay_money:int = money\n",
    "\n",
    "print(f\"實付金額是:pay_money\")\n"
   ]
  },
  {
   "cell_type": "markdown",
   "id": "d26801d5",
   "metadata": {},
   "source": [
    "#### 巢狀判斷"
   ]
  },
  {
   "cell_type": "code",
   "execution_count": 37,
   "id": "939bb4f9",
   "metadata": {},
   "outputs": [
    {
     "name": "stdout",
     "output_type": "stream",
     "text": [
      "獎金:1000\n"
     ]
    }
   ],
   "source": [
    "# 國文100同時數學100,獎金1000\n",
    "# 只有一科100分,獎金500\n",
    "chinese = int(input(\"請輸入國文分數\"))\n",
    "math = int(input(\"請輸入數學分數\"))\n",
    "#巢狀判斷\n",
    "bonus = 0\n",
    "if chinese == 100:\n",
    "    \n",
    "    if math == 100:\n",
    "        bonus = 1000\n",
    "    else:\n",
    "        bonus = 500\n",
    "elif math == 100:\n",
    "    bonus = 500\n",
    "\n",
    "print(f\"獎金:{bonus}\")\n"
   ]
  },
  {
   "cell_type": "markdown",
   "id": "626efbfd",
   "metadata": {},
   "source": [
    "##### 邏輯運算值\n",
    "##### 相較於用上面巢狀，用邏輯運算子寫出來的程式碼會更簡潔、可讀性會更好\n",
    "##### 這就是所謂的，有效程式碼"
   ]
  },
  {
   "cell_type": "code",
   "execution_count": null,
   "id": "d17a5891",
   "metadata": {},
   "outputs": [],
   "source": [
    "# 國文100同時數學100,獎金1000\n",
    "# 只有一科100分,獎金500\n",
    "chinese = int(input(\"請輸入國文分數\"))\n",
    "math = int(input(\"請輸入數學分數\"))\n",
    "#邏輯運算子\n",
    "#bonus = 0\n",
    "if chinese == 100 and math == 100:\n",
    "    bonus = 1000\n",
    "elif chinese == 100 or math == 100:\n",
    "    bonus = 500\n",
    "else:\n",
    "    bonus = 0\n",
    "\n",
    "print(f\"獎金:{bonus}\")\n",
    "\n"
   ]
  },
  {
   "cell_type": "markdown",
   "id": "02459813",
   "metadata": {},
   "source": [
    "### not 使用的方法\n",
    "- True區塊和False區塊，對調"
   ]
  },
  {
   "cell_type": "code",
   "execution_count": 47,
   "id": "2afbadf3",
   "metadata": {},
   "outputs": [
    {
     "name": "stdout",
     "output_type": "stream",
     "text": [
      "可以考駕照\n"
     ]
    }
   ],
   "source": [
    "age = int(input(\"請輸入age\")) #age年齡\n",
    "if not age < 18:\n",
    "    print(\"可以考駕照\")\n",
    "else:\n",
    "    print(\"不可以考駕照\")"
   ]
  },
  {
   "cell_type": "markdown",
   "id": "79ea4318",
   "metadata": {},
   "source": [
    "#### 迴圈---->重複執行\n",
    "- 有兩種語法，方式\n",
    "- for_in_\n",
    "- while"
   ]
  }
 ],
 "metadata": {
  "kernelspec": {
   "display_name": "base",
   "language": "python",
   "name": "python3"
  },
  "language_info": {
   "codemirror_mode": {
    "name": "ipython",
    "version": 3
   },
   "file_extension": ".py",
   "mimetype": "text/x-python",
   "name": "python",
   "nbconvert_exporter": "python",
   "pygments_lexer": "ipython3",
   "version": "3.12.7"
  }
 },
 "nbformat": 4,
 "nbformat_minor": 5
}
