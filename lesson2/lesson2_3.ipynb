{
 "cells": [
  {
   "cell_type": "markdown",
   "id": "fca34692",
   "metadata": {},
   "source": [
    "### 變數就是資料夾的概念"
   ]
  },
  {
   "cell_type": "code",
   "execution_count": 8,
   "id": "42cfeeb8",
   "metadata": {},
   "outputs": [
    {
     "data": {
      "text/plain": [
       "4032"
      ]
     },
     "execution_count": 8,
     "metadata": {},
     "output_type": "execute_result"
    }
   ],
   "source": [
    "n1 =56*72\n",
    "n1"
   ]
  },
  {
   "cell_type": "code",
   "execution_count": 11,
   "id": "c5c8ecc6",
   "metadata": {},
   "outputs": [
    {
     "name": "stdout",
     "output_type": "stream",
     "text": [
      "矩形的寬是:45.78,高是:92.57,面積是:4237.8546\n"
     ]
    }
   ],
   "source": [
    "width = 45.78\n",
    "height = 92.57\n",
    "area = width * height\n",
    "\n",
    "print(f\"矩形的寬是:{width},高是:{height},面積是:{area}\")"
   ]
  }
 ],
 "metadata": {
  "kernelspec": {
   "display_name": "Python 3",
   "language": "python",
   "name": "python3"
  },
  "language_info": {
   "codemirror_mode": {
    "name": "ipython",
    "version": 3
   },
   "file_extension": ".py",
   "mimetype": "text/x-python",
   "name": "python",
   "nbconvert_exporter": "python",
   "pygments_lexer": "ipython3",
   "version": "3.12.1"
  }
 },
 "nbformat": 4,
 "nbformat_minor": 5
}
