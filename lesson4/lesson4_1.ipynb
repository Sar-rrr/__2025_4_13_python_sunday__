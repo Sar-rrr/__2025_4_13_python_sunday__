{
 "cells": [
  {
   "cell_type": "markdown",
   "id": "9e0461e5",
   "metadata": {},
   "source": [
    "##### 計算三角形的角度"
   ]
  },
  {
   "cell_type": "code",
   "execution_count": 13,
   "id": "2877fddd",
   "metadata": {},
   "outputs": [
    {
     "name": "stdout",
     "output_type": "stream",
     "text": [
      "對邊: 30.0\n",
      "斜邊: 50.0\n",
      "徑度: 0.6435011087932844\n",
      "角度: 36.87\n"
     ]
    }
   ],
   "source": [
    "side = float(input(\"請輸入對邊\"))\n",
    "another_side = float(input(\"請輸入斜邊\"))\n",
    "radians = math.asin(side / another_side)\n",
    "degree = math.degrees(radians)\n",
    "\n",
    "print(\"對邊:\",side)\n",
    "print(\"斜邊:\",another_side)\n",
    "print(\"徑度:\", radians)\n",
    "print(\"角度:\", round(degree,ndigits=2))\n"
   ]
  },
  {
   "cell_type": "markdown",
   "id": "5fea7711",
   "metadata": {},
   "source": [
    "## tuple\n",
    "##### tuple 是一種「一次裝好幾個資料」的容器，跟 list（串列）很像，但：\n",
    "✅ 不能改內容（它是「不能變」的）\n",
    "\n"
   ]
  },
  {
   "cell_type": "code",
   "execution_count": 15,
   "id": "812a3831",
   "metadata": {},
   "outputs": [
    {
     "data": {
      "text/plain": [
       "(56, 79, 68)"
      ]
     },
     "execution_count": 15,
     "metadata": {},
     "output_type": "execute_result"
    }
   ],
   "source": [
    "(56, 79, 68)"
   ]
  },
  {
   "cell_type": "markdown",
   "id": "99c95e6c",
   "metadata": {},
   "source": [
    "##### mean\n",
    "##### 把所有數字加起來 / 數字的個數\n",
    "##### 大學的統計,標準差"
   ]
  },
  {
   "cell_type": "code",
   "execution_count": 25,
   "id": "8815671e",
   "metadata": {},
   "outputs": [
    {
     "name": "stdout",
     "output_type": "stream",
     "text": [
      "40.0 200.0 1000.0\n",
      "平均:413.33\n",
      "標準差:514.33\n"
     ]
    }
   ],
   "source": [
    "import statistics\n",
    "\n",
    "n1 = float(input(\"請輸入第一個數:\"))\n",
    "n2 = float(input(\"請輸入第二個數:\"))\n",
    "n3 = float(input(\"請輸入第三個數:\"))\n",
    "average = statistics.mean((n1, n2, n3))\n",
    "std = statistics.stdev((n1, n2, n3))\n",
    "print(n1, n2, n3)\n",
    "print(f\"平均:{average:.2f}\")\n",
    "print(f\"標準差:{std:.2f}\")"
   ]
  }
 ],
 "metadata": {
  "kernelspec": {
   "display_name": "base",
   "language": "python",
   "name": "python3"
  },
  "language_info": {
   "codemirror_mode": {
    "name": "ipython",
    "version": 3
   },
   "file_extension": ".py",
   "mimetype": "text/x-python",
   "name": "python",
   "nbconvert_exporter": "python",
   "pygments_lexer": "ipython3",
   "version": "3.12.7"
  }
 },
 "nbformat": 4,
 "nbformat_minor": 5
}
