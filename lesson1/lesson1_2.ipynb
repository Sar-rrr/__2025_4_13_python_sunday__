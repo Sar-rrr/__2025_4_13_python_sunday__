{
  "nbformat": 4,
  "nbformat_minor": 0,
  "metadata": {
    "colab": {
      "provenance": [],
      "authorship_tag": "ABX9TyMCtpD1y3Sl/BEJFtzBINQk",
      "include_colab_link": true
    },
    "kernelspec": {
      "name": "python3",
      "display_name": "Python 3"
    },
    "language_info": {
      "name": "python"
    }
  },
  "cells": [
    {
      "cell_type": "markdown",
      "metadata": {
        "id": "view-in-github",
        "colab_type": "text"
      },
      "source": [
        "<a href=\"https://colab.research.google.com/github/Sar-rrr/__2025_4_13_python_sunday__/blob/main/lesson1/lesson1_2.ipynb\" target=\"_parent\"><img src=\"https://colab.research.google.com/assets/colab-badge.svg\" alt=\"Open In Colab\"/></a>"
      ]
    },
    {
      "cell_type": "code",
      "source": [
        "\"這是字串\""
      ],
      "metadata": {
        "colab": {
          "base_uri": "https://localhost:8080/",
          "height": 35
        },
        "id": "Oh07IQaeisn_",
        "outputId": "cd5d4ac1-83db-4fe6-f4df-d2564adbe18a"
      },
      "execution_count": 1,
      "outputs": [
        {
          "output_type": "execute_result",
          "data": {
            "text/plain": [
              "'這是字串'"
            ],
            "application/vnd.google.colaboratory.intrinsic+json": {
              "type": "string"
            }
          },
          "metadata": {},
          "execution_count": 1
        }
      ]
    },
    {
      "cell_type": "code",
      "source": [
        "'這也是字串' #字串無法換行"
      ],
      "metadata": {
        "colab": {
          "base_uri": "https://localhost:8080/",
          "height": 35
        },
        "id": "4gbl3OuHixNf",
        "outputId": "f2942da6-a83f-4d71-ca71-a77d2174f07e"
      },
      "execution_count": 2,
      "outputs": [
        {
          "output_type": "execute_result",
          "data": {
            "text/plain": [
              "'這也是字串'"
            ],
            "application/vnd.google.colaboratory.intrinsic+json": {
              "type": "string"
            }
          },
          "metadata": {},
          "execution_count": 2
        }
      ]
    },
    {
      "cell_type": "markdown",
      "source": [
        "### display是顯示格式\n",
        "### print是在螢幕上顯示,所以print符號都不會顯示\n",
        "### \\n 是換行,但是要搭配print"
      ],
      "metadata": {
        "id": "6DtArr41lfo3"
      }
    },
    {
      "cell_type": "code",
      "source": [
        "print(\"這是第一個數值:\"+str(10) + \"\\n這是二個數值:\"+str(20.0))"
      ],
      "metadata": {
        "colab": {
          "base_uri": "https://localhost:8080/"
        },
        "id": "KmkKDbkSi9_9",
        "outputId": "4bc133f2-1b81-409d-be0c-b756bbc5da00"
      },
      "execution_count": 8,
      "outputs": [
        {
          "output_type": "stream",
          "name": "stdout",
          "text": [
            "這是第一個數值:10\n",
            "這是二個數值:20.0\n"
          ]
        }
      ]
    }
  ]
}