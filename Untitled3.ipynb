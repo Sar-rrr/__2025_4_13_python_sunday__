{
  "nbformat": 4,
  "nbformat_minor": 0,
  "metadata": {
    "colab": {
      "provenance": [],
      "authorship_tag": "ABX9TyMzHQn0N7kzGIrITURf3Y9R",
      "include_colab_link": true
    },
    "kernelspec": {
      "name": "python3",
      "display_name": "Python 3"
    },
    "language_info": {
      "name": "python"
    }
  },
  "cells": [
    {
      "cell_type": "markdown",
      "metadata": {
        "id": "view-in-github",
        "colab_type": "text"
      },
      "source": [
        "<a href=\"https://colab.research.google.com/github/Sar-rrr/__2025_4_13_python_sunday__/blob/main/Untitled3.ipynb\" target=\"_parent\"><img src=\"https://colab.research.google.com/assets/colab-badge.svg\" alt=\"Open In Colab\"/></a>"
      ]
    },
    {
      "cell_type": "code",
      "source": [
        "for i in range(1, 10):\n",
        "  for j in range (1, 10):\n",
        "    print(f\"{i:<2d}*{j:2d} ={i*j:2d}\",end='  ')\n",
        "  print( )"
      ],
      "metadata": {
        "colab": {
          "base_uri": "https://localhost:8080/"
        },
        "id": "MKESmCEELVP_",
        "outputId": "60b2b2cc-4785-461d-8bf9-696d93a1ac72",
        "collapsed": true
      },
      "execution_count": null,
      "outputs": [
        {
          "output_type": "stream",
          "name": "stdout",
          "text": [
            "1 * 1 = 1  1 * 2 = 2  1 * 3 = 3  1 * 4 = 4  1 * 5 = 5  1 * 6 = 6  1 * 7 = 7  1 * 8 = 8  1 * 9 = 9  \n",
            "2 * 1 = 2  2 * 2 = 4  2 * 3 = 6  2 * 4 = 8  2 * 5 =10  2 * 6 =12  2 * 7 =14  2 * 8 =16  2 * 9 =18  \n",
            "3 * 1 = 3  3 * 2 = 6  3 * 3 = 9  3 * 4 =12  3 * 5 =15  3 * 6 =18  3 * 7 =21  3 * 8 =24  3 * 9 =27  \n",
            "4 * 1 = 4  4 * 2 = 8  4 * 3 =12  4 * 4 =16  4 * 5 =20  4 * 6 =24  4 * 7 =28  4 * 8 =32  4 * 9 =36  \n",
            "5 * 1 = 5  5 * 2 =10  5 * 3 =15  5 * 4 =20  5 * 5 =25  5 * 6 =30  5 * 7 =35  5 * 8 =40  5 * 9 =45  \n",
            "6 * 1 = 6  6 * 2 =12  6 * 3 =18  6 * 4 =24  6 * 5 =30  6 * 6 =36  6 * 7 =42  6 * 8 =48  6 * 9 =54  \n",
            "7 * 1 = 7  7 * 2 =14  7 * 3 =21  7 * 4 =28  7 * 5 =35  7 * 6 =42  7 * 7 =49  7 * 8 =56  7 * 9 =63  \n",
            "8 * 1 = 8  8 * 2 =16  8 * 3 =24  8 * 4 =32  8 * 5 =40  8 * 6 =48  8 * 7 =56  8 * 8 =64  8 * 9 =72  \n",
            "9 * 1 = 9  9 * 2 =18  9 * 3 =27  9 * 4 =36  9 * 5 =45  9 * 6 =54  9 * 7 =63  9 * 8 =72  9 * 9 =81  \n"
          ]
        }
      ]
    },
    {
      "cell_type": "code",
      "source": [
        "deposit = 0 #存款是0元\n",
        "month = 0 #月份\n",
        "while(deposit < 30000): #迴圈開始，要縮排:\n",
        "  month += 1 #複合指定運算子，每跑一次月份就加一\n",
        "  input_money = int(input(f\"請輸入第{month}月份存款:\")) #變數\n",
        "  deposit += input_money #複合指定運算值，存款+變數\n",
        "\n",
        "print(f\"恭喜!已經存夠了，存了{month}月，共存了{deposit}元\")\n"
      ],
      "metadata": {
        "colab": {
          "base_uri": "https://localhost:8080/"
        },
        "id": "mnWjR0mkVHRF",
        "outputId": "d68502f8-9e0b-4388-890c-e95593312b01"
      },
      "execution_count": null,
      "outputs": [
        {
          "output_type": "stream",
          "name": "stdout",
          "text": [
            "請輸入第1月份存款:10000\n",
            "請輸入第2月份存款:10000\n",
            "請輸入第3月份存款:10000\n",
            "恭喜!已經存夠了，存了3月，共存了30000元\n"
          ]
        }
      ]
    },
    {
      "cell_type": "code",
      "source": [
        "deposit = 0\n",
        "month = 0\n",
        "while(True):\n",
        "  month += 1\n",
        "  input_money = int(input(f\"請輸入第{month}月份存款:\"))\n",
        "  deposit += input_money\n",
        "  if(deposit>=30000):\n",
        "    break\n",
        "print(f\"恭喜!已經存夠了，存了{month}月，共存了{deposit}元\")\n"
      ],
      "metadata": {
        "colab": {
          "base_uri": "https://localhost:8080/"
        },
        "id": "McPLRCU-D5eH",
        "outputId": "60fd73d1-24fa-4ae0-9fe6-a46c855fac69"
      },
      "execution_count": 1,
      "outputs": [
        {
          "output_type": "stream",
          "name": "stdout",
          "text": [
            "請輸入第1月份存款:10000\n",
            "請輸入第2月份存款:20000\n",
            "恭喜!已經存夠了，存了2月，共存了30000元\n"
          ]
        }
      ]
    },
    {
      "cell_type": "markdown",
      "source": [
        "- 奇數輸出平方\n",
        "- 偶數不做任何動作\n",
        "- 'q'要離開\n",
        "- 不知道要執行幾次就用while(True)"
      ],
      "metadata": {
        "id": "mQMOIjDQLtEv"
      }
    },
    {
      "cell_type": "code",
      "source": [
        "while(True): #無限迴圈，程式區塊開始注意縮排:\n",
        "  value = input(\"請輸入整數，輸入{q}離開:\")\n",
        "  if value == 'q': # == 不是指定，是在問是不是一樣，while(True)+break的經典寫法。\n",
        "    break #立刻跳出迴圈\n",
        "\n",
        "  try: #試著執行這段程式，如果出錯了，防止程式直接出錯當掉，用try包起來就不會爆掉。#要跟except一起用。\n",
        "    value = int(value) #整數蓋過自己，有可能會出錯。\n",
        "  except: #如果出錯了，改跑這裡的程式碼。\n",
        "    print(\"輸入錯誤，請重新輸入\")\n",
        "    continue #跳到前面那一輪迴圈\n",
        "\n",
        "  if (value % 2 ==1): #會到這個位子，代表輸入都正確，不然不會到這邊\n",
        "    print(f\"{value}的平方是{value**2}\")\n",
        "  #不用在打else了，因為這就是一個迴圈，到最後還是會跳回去，除非案q離開，不然會一直執行下去。\n",
        "\n",
        "print(\"應用程式結束\")"
      ],
      "metadata": {
        "colab": {
          "base_uri": "https://localhost:8080/"
        },
        "id": "1YCXaWUZMCHK",
        "outputId": "963350c9-5d51-4de9-d042-908e515d372a"
      },
      "execution_count": 9,
      "outputs": [
        {
          "output_type": "stream",
          "name": "stdout",
          "text": [
            "請輸入整數，輸入{q}離開:23\n",
            "23的平方是529\n",
            "請輸入整數，輸入{q}離開:3a\n",
            "輸入錯誤，請重新輸入\n",
            "請輸入整數，輸入{q}離開:q\n",
            "應用程式結束\n"
          ]
        }
      ]
    },
    {
      "cell_type": "markdown",
      "source": [
        "### 建立亂數"
      ],
      "metadata": {
        "id": "Ji2tIxzxoWGL"
      }
    },
    {
      "cell_type": "code",
      "source": [
        "import random\n",
        "rand_num = random.randint(5, 100)\n",
        "rand_num"
      ],
      "metadata": {
        "colab": {
          "base_uri": "https://localhost:8080/"
        },
        "id": "NTMPjQY6oYsr",
        "outputId": "7ece6da0-9f4a-48da-b9a1-632246c598b2"
      },
      "execution_count": 62,
      "outputs": [
        {
          "output_type": "execute_result",
          "data": {
            "text/plain": [
              "66"
            ]
          },
          "metadata": {},
          "execution_count": 62
        }
      ]
    },
    {
      "cell_type": "markdown",
      "source": [
        "### 猜數字遊戲"
      ],
      "metadata": {
        "id": "L_EywomFsYaF"
      }
    },
    {
      "cell_type": "code",
      "source": [
        "import random #一開始要做亂數所以用這個\n",
        "min = 1\n",
        "max = 99 #最小最大的數已經在變數裡面了\n",
        "count = 0 #猜的次數\n",
        "target = random.randint(min, max) #min,max不能相反，注意順序。猜的目標。\n",
        "#print(target) #變數，數字不用加\"\"號\n",
        "print(\"==========猜數字遊戲===========\\n\\n\")\n",
        "#到第五行都是只要執行一次，所以放最外面\n",
        "\n",
        "while(True): #不知道要執行幾次所以用while，因為要靈活所以用True(無限迴圈)，注意加break\n",
        "  keyin = int(input(f\"\\n猜數字範圍:{min}~{max}請輸入-->\"))\n",
        "  count += 1\n",
        "  if(keyin >= min and keyin <= max): #and嚴格的。防止最小值又去猜最小值，防呆設計\n",
        "    if (keyin == target): #keyin(我輸入的值)  如果if ==(比較) target(猜中)\n",
        "          print(f\"賓果!猜對了，答案是:{target}\") #可以是target也可以是keyin\n",
        "          print(f\"您共猜了{count}次\")\n",
        "          break #時麼時候要break?猜中的時候，所以做這種迴圈人家在猜的時候，猜完就要break了\n",
        "    elif keyin < target: #我猜的值要小於我的目標。注意:加如我猜50那現在最小的值就是50，所以才要min+1=51\n",
        "          print(\"在大一點\")\n",
        "          min = keyin + 1\n",
        "          print(f\"您已經猜了:{count}\")\n",
        "    elif keyin > target:\n",
        "          print(\"在小一點\")\n",
        "          max = keyin - 1 #同上\n",
        "          print(f\"您已經猜了:{count}\")\n",
        "  else:\n",
        "      print(\"請輸入提示範圍內的數字\")\n",
        "\n",
        "\n",
        "\n",
        "print(\"猜數字遊戲結束\")"
      ],
      "metadata": {
        "colab": {
          "base_uri": "https://localhost:8080/"
        },
        "id": "v-4kslWhsb4t",
        "outputId": "d77cb20e-535a-4346-d584-57cd968f0e77"
      },
      "execution_count": 17,
      "outputs": [
        {
          "output_type": "stream",
          "name": "stdout",
          "text": [
            "==========猜數字遊戲===========\n",
            "\n",
            "\n",
            "\n",
            "猜數字範圍:1~99請輸入-->50\n",
            "在大一點\n",
            "您已經猜了:1\n",
            "\n",
            "猜數字範圍:51~99請輸入-->60\n",
            "在小一點\n",
            "您已經猜了:2\n",
            "\n",
            "猜數字範圍:51~59請輸入-->55\n",
            "賓果!猜對了，答案是:55\n",
            "您共猜了3次\n",
            "猜數字遊戲結束\n"
          ]
        }
      ]
    }
  ]
}