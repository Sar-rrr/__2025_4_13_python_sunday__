{
 "cells": [
  {
   "cell_type": "markdown",
   "id": "9f9c0eef",
   "metadata": {},
   "source": [
    "### 迴圈可以和判斷整合"
   ]
  },
  {
   "cell_type": "code",
   "execution_count": 1,
   "id": "94d70099",
   "metadata": {},
   "outputs": [
    {
     "name": "stdout",
     "output_type": "stream",
     "text": [
      "48的因數有:1 2 3 4 6 8 12 16 24 48 "
     ]
    }
   ],
   "source": [
    "num = int(input(\"請輸入整數,求所有的因數:\"))\n",
    "print(f\"{num}的因數有:\", end=\"\")\n",
    "for i in range(1,num+1):\n",
    "    if num % i == 0:\n",
    "        print(i,end=\" \")"
   ]
  },
  {
   "cell_type": "markdown",
   "id": "080fd8e5",
   "metadata": {},
   "source": [
    "### 不知道執行次數的迴圈"
   ]
  },
  {
   "cell_type": "code",
   "execution_count": 2,
   "id": "67b1c666",
   "metadata": {},
   "outputs": [
    {
     "name": "stdout",
     "output_type": "stream",
     "text": [
      "恭喜!已經存夠了,存了2月,共存了30000元\n"
     ]
    }
   ],
   "source": [
    "#小明想要存錢買一輛機車,機車每輛30000元，他將每月存的錢輸入，當存款足夠買機車時，就顯示提示訊息告知。\n",
    "#你不知道要存幾個月\n",
    "#必需找到被比較的變數\n",
    "\n",
    "deposit = 0\n",
    "month = 0\n",
    "while(deposit < 30000):\n",
    "    month += 1\n",
    "    input_money = int(input(f\"請輸入第{month}月份的存款:\"))\n",
    "    deposit += input_money\n",
    "\n",
    "print(f\"恭喜!已經存夠了,存了{month}月,共存了{deposit}元\")"
   ]
  }
 ],
 "metadata": {
  "kernelspec": {
   "display_name": "base",
   "language": "python",
   "name": "python3"
  },
  "language_info": {
   "codemirror_mode": {
    "name": "ipython",
    "version": 3
   },
   "file_extension": ".py",
   "mimetype": "text/x-python",
   "name": "python",
   "nbconvert_exporter": "python",
   "pygments_lexer": "ipython3",
   "version": "3.12.7"
  }
 },
 "nbformat": 4,
 "nbformat_minor": 5
}
