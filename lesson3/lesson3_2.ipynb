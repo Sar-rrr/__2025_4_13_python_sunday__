{
 "cells": [
  {
   "cell_type": "markdown",
   "id": "e339f6ea",
   "metadata": {},
   "source": [
    "### 複合指定運算值\n",
    "### 有等於的符號,就是建立了一個變數\n",
    "### 所以10 + 1 ，但是這個10 + 1沒有人接收,所以這個n還是10\n",
    "### 記得要接收哦,不然一點用都沒有\n",
    "### 寫程式的等於是把右邊的值給左邊,叫\"指定運算值\""
   ]
  },
  {
   "cell_type": "code",
   "execution_count": 2,
   "id": "99bf30a7",
   "metadata": {},
   "outputs": [
    {
     "name": "stdout",
     "output_type": "stream",
     "text": [
      "11\n"
     ]
    }
   ],
   "source": [
    "n = 10\n",
    "n = n + 1\n",
    "print(n)"
   ]
  },
  {
   "cell_type": "code",
   "execution_count": 3,
   "id": "cc4c4d9a",
   "metadata": {},
   "outputs": [
    {
     "name": "stdout",
     "output_type": "stream",
     "text": [
      "11\n"
     ]
    }
   ],
   "source": [
    "n = 10\n",
    "n += 1 #複合指定運算值\n",
    "print(n)"
   ]
  }
 ],
 "metadata": {
  "kernelspec": {
   "display_name": "base",
   "language": "python",
   "name": "python3"
  },
  "language_info": {
   "codemirror_mode": {
    "name": "ipython",
    "version": 3
   },
   "file_extension": ".py",
   "mimetype": "text/x-python",
   "name": "python",
   "nbconvert_exporter": "python",
   "pygments_lexer": "ipython3",
   "version": "3.12.7"
  }
 },
 "nbformat": 4,
 "nbformat_minor": 5
}
