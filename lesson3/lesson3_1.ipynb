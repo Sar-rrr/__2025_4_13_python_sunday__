{
 "cells": [
  {
   "cell_type": "markdown",
   "id": "a0a0c298",
   "metadata": {},
   "source": [
    "### print() --->輸出\n",
    "### 重點是input() --->輸入\n",
    "### input(prompt) --->prompt(參數)\n",
    "### 參數(parameter)\n",
    "\n",
    "### input(引數值,是真正的值)\n",
    "### 引數值(argument)。只能一個字串! "
   ]
  },
  {
   "cell_type": "code",
   "execution_count": 4,
   "id": "d6a6508d",
   "metadata": {},
   "outputs": [
    {
     "data": {
      "text/plain": [
       "float"
      ]
     },
     "execution_count": 4,
     "metadata": {},
     "output_type": "execute_result"
    }
   ],
   "source": [
    "width_input = input(\"請輸入矩形的寬 \")\n",
    "type(width_input)\n",
    "width_value = float(width_input)\n",
    "type(width_value)"
   ]
  },
  {
   "cell_type": "code",
   "execution_count": 9,
   "id": "8fd993d8",
   "metadata": {},
   "outputs": [
    {
     "name": "stdout",
     "output_type": "stream",
     "text": [
      "矩形的寬:234.0 高:321.0 面積是75114.0\n"
     ]
    }
   ],
   "source": [
    "width = float(input(\"請輸入矩形的寬:\"))\n",
    "height = float(input(\"請輸入矩形的高:\"))\n",
    "area = width * height\n",
    "print(f\"矩形的寬:{width} 高:{height} 面積是{round(area,ndigits=2)}\")"
   ]
  }
 ],
 "metadata": {
  "kernelspec": {
   "display_name": "base",
   "language": "python",
   "name": "python3"
  },
  "language_info": {
   "codemirror_mode": {
    "name": "ipython",
    "version": 3
   },
   "file_extension": ".py",
   "mimetype": "text/x-python",
   "name": "python",
   "nbconvert_exporter": "python",
   "pygments_lexer": "ipython3",
   "version": "3.12.7"
  }
 },
 "nbformat": 4,
 "nbformat_minor": 5
}
