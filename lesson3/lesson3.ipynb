{
 "cells": [
  {
   "cell_type": "markdown",
   "id": "5c7f0e64",
   "metadata": {},
   "source": [
    "### 這是第3節上課內容\n",
    "\n",
    "### 小學數學運算 int,float,str,bool\n",
    "### print()\n",
    "### 變數(資料夾的概念,儲存資料的名子) # 變數名稱 =\n",
    "### 數學運算子,注意優先順序\n",
    "### 指定運算子,將右邊的值指定給左邊的變數 # =\n",
    "### = 等於的優先計算永遠是最後最小的\n",
    "### type() 的時候，就是在問電腦：「這是什麼種類的東西？」\n",
    "### type範例:\"你好\" 是文字 → type(\"你好\") 會說是 str（字串）"
   ]
  },
  {
   "cell_type": "code",
   "execution_count": null,
   "id": "51cb61c5",
   "metadata": {},
   "outputs": [],
   "source": [
    "width = 345.8 # datatype(型別)---> float(浮點數)\n",
    "height = 100 # datatype(型別)--->int(整數)\n",
    "typeype(width)\n",
    "type(height)\n",
    "area = width * height #這是運算子,注意優先順序,有兩個運算子\n",
    "                      #flaot * int = 還是等於float\n",
    "area = float\n",
    "type(area) ## ---> float"
   ]
  },
  {
   "cell_type": "markdown",
   "id": "2a38ddc4",
   "metadata": {},
   "source": [
    "### 字串插補\n",
    "### 裡面的 {} 就是要放變數的地方！\n",
    "### 去查字串插補的規則!\n",
    "### 下面是5個動作,注意先後順序"
   ]
  },
  {
   "cell_type": "code",
   "execution_count": null,
   "id": "9252930f",
   "metadata": {},
   "outputs": [],
   "source": [
    "print(f\"矩形的寬:{width} 高:{heigth} 面積是{round(area,ndigits=2)}\")"
   ]
  }
 ],
 "metadata": {
  "kernelspec": {
   "display_name": "base",
   "language": "python",
   "name": "python3"
  },
  "language_info": {
   "codemirror_mode": {
    "name": "ipython",
    "version": 3
   },
   "file_extension": ".py",
   "mimetype": "text/x-python",
   "name": "python",
   "nbconvert_exporter": "python",
   "pygments_lexer": "ipython3",
   "version": "3.12.7"
  }
 },
 "nbformat": 4,
 "nbformat_minor": 5
}
