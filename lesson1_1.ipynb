{
  "nbformat": 4,
  "nbformat_minor": 0,
  "metadata": {
    "colab": {
      "provenance": [],
      "authorship_tag": "ABX9TyN8vzv5WaeDSezvv/H1YG8H",
      "include_colab_link": true
    },
    "kernelspec": {
      "name": "python3",
      "display_name": "Python 3"
    },
    "language_info": {
      "name": "python"
    }
  },
  "cells": [
    {
      "cell_type": "markdown",
      "metadata": {
        "id": "view-in-github",
        "colab_type": "text"
      },
      "source": [
        "<a href=\"https://colab.research.google.com/github/Sar-rrr/__2025_4_13_python_sunday__/blob/main/lesson1_1.ipynb\" target=\"_parent\"><img src=\"https://colab.research.google.com/assets/colab-badge.svg\" alt=\"Open In Colab\"/></a>"
      ]
    },
    {
      "cell_type": "code",
      "execution_count": 1,
      "metadata": {
        "colab": {
          "base_uri": "https://localhost:8080/"
        },
        "id": "qJ4jjxf95E2S",
        "outputId": "f1afa142-0af4-472b-e4b0-a3c32b8898f8"
      },
      "outputs": [
        {
          "output_type": "stream",
          "name": "stdout",
          "text": [
            "Hello! World!\n"
          ]
        }
      ],
      "source": [
        "print(\"Hello! World!\")"
      ]
    },
    {
      "cell_type": "markdown",
      "source": [
        "### python的基本資料類型\n",
        "- int(整數,沒有小數點)\n",
        "- float(浮點數,有小數點)\n",
        "- str(字串,文字)\n",
        "- bool(布林值,判斷真假)\n",
        "- bool(True真,False假)"
      ],
      "metadata": {
        "id": "uSeyUHrK_2LD"
      }
    },
    {
      "cell_type": "code",
      "source": [
        "10 #代表整數int\n",
        "10.0 #代表float\n",
        "\"10.0\" #代表str\n",
        "'10.0' #也是str\n",
        "True #代表bool\n",
        "False #代表bool"
      ],
      "metadata": {
        "colab": {
          "base_uri": "https://localhost:8080/"
        },
        "id": "dla899EwAZqm",
        "outputId": "e68a8656-a238-4569-ce1d-1790455bb33b"
      },
      "execution_count": 2,
      "outputs": [
        {
          "output_type": "execute_result",
          "data": {
            "text/plain": [
              "False"
            ]
          },
          "metadata": {},
          "execution_count": 2
        }
      ]
    },
    {
      "cell_type": "markdown",
      "source": [
        "###  只有數值的類型可以做數學運算"
      ],
      "metadata": {
        "id": "m0YVPwbeLUPM"
      }
    },
    {
      "cell_type": "code",
      "source": [
        "19+571\n",
        "19.0+571.0\n",
        "19 + 571.0 #int + float\n",
        "#\"19\"+571.0 #字串不可以加上數值,會出錯\n",
        "\"19\" + \"571.0\" #兩個字串不能相加,只能連結,不是數學運算"
      ],
      "metadata": {
        "colab": {
          "base_uri": "https://localhost:8080/",
          "height": 35
        },
        "id": "nP0_0roVJluK",
        "outputId": "aacb7479-8822-4187-df27-8afef65e466e"
      },
      "execution_count": 11,
      "outputs": [
        {
          "output_type": "execute_result",
          "data": {
            "text/plain": [
              "'19571.0'"
            ],
            "application/vnd.google.colaboratory.intrinsic+json": {
              "type": "string"
            }
          },
          "metadata": {},
          "execution_count": 11
        }
      ]
    },
    {
      "cell_type": "markdown",
      "source": [
        "### 使用print()顯示結果(沒有格式)\n",
        "### 使用display()顯示結果(格式)\n",
        "### 括號內的先做,有先後順序,最後在print,所以總共是2個動作"
      ],
      "metadata": {
        "id": "HHwIsh-lMfWC"
      }
    },
    {
      "cell_type": "code",
      "source": [
        "print(19+571)\n",
        "print(19.0+571.0)\n",
        "print(19+571.0)\n",
        "display (\"19\" + \"571.0\")"
      ],
      "metadata": {
        "colab": {
          "base_uri": "https://localhost:8080/",
          "height": 88
        },
        "id": "hiiPuH_6MkyS",
        "outputId": "db948f1e-24e8-4901-cf10-5493e8d8495f"
      },
      "execution_count": 13,
      "outputs": [
        {
          "output_type": "stream",
          "name": "stdout",
          "text": [
            "590\n",
            "590.0\n",
            "590.0\n"
          ]
        },
        {
          "output_type": "display_data",
          "data": {
            "text/plain": [
              "'19571.0'"
            ],
            "application/vnd.google.colaboratory.intrinsic+json": {
              "type": "string"
            }
          },
          "metadata": {}
        }
      ]
    },
    {
      "cell_type": "code",
      "source": [
        "5+8\n",
        "90-10\n",
        "4*7\n",
        "7/2 #浮點數除法\n",
        "7//2 #整數除法\n",
        "7%2 #餘數\n",
        "3**4 #次方"
      ],
      "metadata": {
        "colab": {
          "base_uri": "https://localhost:8080/"
        },
        "id": "yScUqKGbQmr6",
        "outputId": "ea47e45a-0373-41db-c5b8-9fad7e2f4e87"
      },
      "execution_count": 14,
      "outputs": [
        {
          "output_type": "execute_result",
          "data": {
            "text/plain": [
              "81"
            ]
          },
          "metadata": {},
          "execution_count": 14
        }
      ]
    },
    {
      "cell_type": "code",
      "source": [
        "### 一個運算子做一個動作\n",
        "### 數學的運算子有優先順序"
      ],
      "metadata": {
        "id": "MOA3S9hVR9QR"
      },
      "execution_count": null,
      "outputs": []
    },
    {
      "cell_type": "code",
      "source": [
        "2+3*4 #兩個動作\n",
        "數學運算子,優先順序,由上而下\n",
        "()\n",
        "**\n",
        "正負\n",
        "* / % // #同等級,由左而右做\n",
        "+-\n",
        "= #全世界最小的\n",
        "\n",
        "\n",
        "print(2+3*4)\n",
        "print((2+3)*4)\n",
        "print(2 * (1+2) ** 2 - 2 ** 2 *2) #共10個動作\n",
        "#print 也算一個動作"
      ],
      "metadata": {
        "id": "BS_bgkyjSIS6"
      },
      "execution_count": null,
      "outputs": []
    }
  ]
}