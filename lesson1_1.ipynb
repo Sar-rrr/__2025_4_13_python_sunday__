{
  "nbformat": 4,
  "nbformat_minor": 0,
  "metadata": {
    "colab": {
      "provenance": [],
      "authorship_tag": "ABX9TyOCQGUyv205B5SBD3JVfHqc",
      "include_colab_link": true
    },
    "kernelspec": {
      "name": "python3",
      "display_name": "Python 3"
    },
    "language_info": {
      "name": "python"
    }
  },
  "cells": [
    {
      "cell_type": "markdown",
      "metadata": {
        "id": "view-in-github",
        "colab_type": "text"
      },
      "source": [
        "<a href=\"https://colab.research.google.com/github/Sar-rrr/__2025_4_13_python_sunday__/blob/main/lesson1_1.ipynb\" target=\"_parent\"><img src=\"https://colab.research.google.com/assets/colab-badge.svg\" alt=\"Open In Colab\"/></a>"
      ]
    },
    {
      "cell_type": "code",
      "execution_count": 1,
      "metadata": {
        "colab": {
          "base_uri": "https://localhost:8080/"
        },
        "id": "qJ4jjxf95E2S",
        "outputId": "f1afa142-0af4-472b-e4b0-a3c32b8898f8"
      },
      "outputs": [
        {
          "output_type": "stream",
          "name": "stdout",
          "text": [
            "Hello! World!\n"
          ]
        }
      ],
      "source": [
        "print(\"Hello! World!\")"
      ]
    },
    {
      "cell_type": "markdown",
      "source": [
        "### python的基本資料類型\n",
        "- int(整數,沒有小數點)\n",
        "- float(浮點數,有小數點)\n",
        "- str(字串,文字)\n",
        "- bool(布林值,判斷真假)\n",
        "- bool(True真,False假)"
      ],
      "metadata": {
        "id": "uSeyUHrK_2LD"
      }
    },
    {
      "cell_type": "code",
      "source": [
        "10 #代表整數int\n",
        "10.0 #代表float\n",
        "\"10.0\" #代表str\n",
        "'10.0' #也是str\n",
        "True #代表bool\n",
        "False #代表bool"
      ],
      "metadata": {
        "colab": {
          "base_uri": "https://localhost:8080/"
        },
        "id": "dla899EwAZqm",
        "outputId": "e68a8656-a238-4569-ce1d-1790455bb33b"
      },
      "execution_count": 2,
      "outputs": [
        {
          "output_type": "execute_result",
          "data": {
            "text/plain": [
              "False"
            ]
          },
          "metadata": {},
          "execution_count": 2
        }
      ]
    },
    {
      "cell_type": "markdown",
      "source": [
        "###  只有數值的類型可以做數學運算"
      ],
      "metadata": {
        "id": "m0YVPwbeLUPM"
      }
    },
    {
      "cell_type": "code",
      "source": [
        "19+571\n",
        "19.0+571.0\n",
        "19 + 571.0 #int + float\n",
        "#\"19\"+571.0 #字串不可以加上數值,會出錯\n",
        "\"19\" + \"571.0\" #兩個字串不能相加,只能連結,不是數學運算"
      ],
      "metadata": {
        "colab": {
          "base_uri": "https://localhost:8080/",
          "height": 35
        },
        "id": "nP0_0roVJluK",
        "outputId": "aacb7479-8822-4187-df27-8afef65e466e"
      },
      "execution_count": 11,
      "outputs": [
        {
          "output_type": "execute_result",
          "data": {
            "text/plain": [
              "'19571.0'"
            ],
            "application/vnd.google.colaboratory.intrinsic+json": {
              "type": "string"
            }
          },
          "metadata": {},
          "execution_count": 11
        }
      ]
    }
  ]
}